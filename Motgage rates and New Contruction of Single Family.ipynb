{
 "cells": [
  {
   "cell_type": "code",
   "execution_count": 1,
   "metadata": {},
   "outputs": [],
   "source": [
    "import pandas as pd\n",
    "import numpy as np"
   ]
  },
  {
   "cell_type": "code",
   "execution_count": 2,
   "metadata": {},
   "outputs": [],
   "source": [
    "# Data from FRED\n",
    "# Read csv files to pandas dataframe\n",
    "# MDO stands for mortgage debt out standing, S is for 1-4 unit and M is for multifamily\n",
    "MDO_S_06 = pd.read_csv('Data/1_4_family_2006_2009.csv')\n",
    "MDO_S_16 = pd.read_csv('Data/1_4_family_2016_2019.csv')\n",
    "MDO_M_06 = pd.read_csv('Data/multi_family_2006_2009.csv')\n",
    "MDO_M_16 = pd.read_csv('Data/multi_family_2016_2019.csv')\n",
    "\n",
    "# Mortgage rates quarterly\n",
    "ratesQ_06 = pd.read_csv('Data/MORTGAGE30USQ_06_09.csv')\n",
    "ratesQ_16 = pd.read_csv('Data/MORTGAGE30USQ_16_19.csv')"
   ]
  },
  {
   "cell_type": "code",
   "execution_count": 3,
   "metadata": {},
   "outputs": [],
   "source": [
    "# Data from FRED\n",
    "# Read csv files to pandas dataframe\n",
    "Mortgage_1 = \"data\\MORTGAGE30US_2006_2009.csv\"\n",
    "Mortgage_2 = \"data\\MORTGAGE30US_2016_2019.csv\"\n",
    "\n",
    "Mortgage_1 = pd.read_csv(Mortgage_1)\n",
    "Mortgage_2 = pd.read_csv(Mortgage_2)"
   ]
  },
  {
   "cell_type": "code",
   "execution_count": 4,
   "metadata": {},
   "outputs": [],
   "source": [
    "# Rename columns\n",
    "Mortgage_1 = Mortgage_1.rename(columns={\"DATE\": \"Date\", \"MORTGAGE30US\": \"30-Year Mortgage(%)\"})\n",
    "Mortgage_2 = Mortgage_2.rename(columns={\"DATE\": \"Date\", \"MORTGAGE30US\": \"30-Year Mortgage(%)\"})"
   ]
  },
  {
   "cell_type": "code",
   "execution_count": 5,
   "metadata": {},
   "outputs": [],
   "source": [
    "# Reset index to date\n",
    "Mortgage_1.set_index(\"Date\", inplace=True)\n",
    "Mortgage_2.set_index(\"Date\", inplace=True)"
   ]
  },
  {
   "cell_type": "code",
   "execution_count": 6,
   "metadata": {},
   "outputs": [],
   "source": [
    "# Changing format by adding % sign to interest rates\n",
    "Mortgage_1 = Mortgage_1['30-Year Mortgage(%)'].astype(str) + '%'\n",
    "Mortgage_2 = Mortgage_2['30-Year Mortgage(%)'].astype(str) + '%'\n",
    "\n",
    "# Adding the data to dataframe\n",
    "Mortgage_1 = pd.DataFrame(Mortgage_1)\n",
    "Mortgage_2 = pd.DataFrame(Mortgage_2)"
   ]
  },
  {
   "cell_type": "code",
   "execution_count": 7,
   "metadata": {},
   "outputs": [
    {
     "data": {
      "text/html": [
       "<div>\n",
       "<style scoped>\n",
       "    .dataframe tbody tr th:only-of-type {\n",
       "        vertical-align: middle;\n",
       "    }\n",
       "\n",
       "    .dataframe tbody tr th {\n",
       "        vertical-align: top;\n",
       "    }\n",
       "\n",
       "    .dataframe thead th {\n",
       "        text-align: right;\n",
       "    }\n",
       "</style>\n",
       "<table border=\"1\" class=\"dataframe\">\n",
       "  <thead>\n",
       "    <tr style=\"text-align: right;\">\n",
       "      <th></th>\n",
       "      <th>30-Year Mortgage(%)</th>\n",
       "    </tr>\n",
       "    <tr>\n",
       "      <th>Date</th>\n",
       "      <th></th>\n",
       "    </tr>\n",
       "  </thead>\n",
       "  <tbody>\n",
       "    <tr>\n",
       "      <th>2006-01-05</th>\n",
       "      <td>6.21%</td>\n",
       "    </tr>\n",
       "    <tr>\n",
       "      <th>2006-01-12</th>\n",
       "      <td>6.15%</td>\n",
       "    </tr>\n",
       "    <tr>\n",
       "      <th>2006-01-19</th>\n",
       "      <td>6.1%</td>\n",
       "    </tr>\n",
       "    <tr>\n",
       "      <th>2006-01-26</th>\n",
       "      <td>6.12%</td>\n",
       "    </tr>\n",
       "    <tr>\n",
       "      <th>2006-02-02</th>\n",
       "      <td>6.23%</td>\n",
       "    </tr>\n",
       "  </tbody>\n",
       "</table>\n",
       "</div>"
      ],
      "text/plain": [
       "           30-Year Mortgage(%)\n",
       "Date                          \n",
       "2006-01-05               6.21%\n",
       "2006-01-12               6.15%\n",
       "2006-01-19                6.1%\n",
       "2006-01-26               6.12%\n",
       "2006-02-02               6.23%"
      ]
     },
     "execution_count": 7,
     "metadata": {},
     "output_type": "execute_result"
    }
   ],
   "source": [
    "# Display Data\n",
    "Mortgage_1.head()"
   ]
  },
  {
   "cell_type": "code",
   "execution_count": 8,
   "metadata": {},
   "outputs": [
    {
     "data": {
      "text/html": [
       "<div>\n",
       "<style scoped>\n",
       "    .dataframe tbody tr th:only-of-type {\n",
       "        vertical-align: middle;\n",
       "    }\n",
       "\n",
       "    .dataframe tbody tr th {\n",
       "        vertical-align: top;\n",
       "    }\n",
       "\n",
       "    .dataframe thead th {\n",
       "        text-align: right;\n",
       "    }\n",
       "</style>\n",
       "<table border=\"1\" class=\"dataframe\">\n",
       "  <thead>\n",
       "    <tr style=\"text-align: right;\">\n",
       "      <th></th>\n",
       "      <th>30-Year Mortgage(%)</th>\n",
       "    </tr>\n",
       "    <tr>\n",
       "      <th>Date</th>\n",
       "      <th></th>\n",
       "    </tr>\n",
       "  </thead>\n",
       "  <tbody>\n",
       "    <tr>\n",
       "      <th>2016-01-07</th>\n",
       "      <td>3.97%</td>\n",
       "    </tr>\n",
       "    <tr>\n",
       "      <th>2016-01-14</th>\n",
       "      <td>3.92%</td>\n",
       "    </tr>\n",
       "    <tr>\n",
       "      <th>2016-01-21</th>\n",
       "      <td>3.81%</td>\n",
       "    </tr>\n",
       "    <tr>\n",
       "      <th>2016-01-28</th>\n",
       "      <td>3.79%</td>\n",
       "    </tr>\n",
       "    <tr>\n",
       "      <th>2016-02-04</th>\n",
       "      <td>3.72%</td>\n",
       "    </tr>\n",
       "  </tbody>\n",
       "</table>\n",
       "</div>"
      ],
      "text/plain": [
       "           30-Year Mortgage(%)\n",
       "Date                          \n",
       "2016-01-07               3.97%\n",
       "2016-01-14               3.92%\n",
       "2016-01-21               3.81%\n",
       "2016-01-28               3.79%\n",
       "2016-02-04               3.72%"
      ]
     },
     "execution_count": 8,
     "metadata": {},
     "output_type": "execute_result"
    }
   ],
   "source": [
    "Mortgage_2.head()"
   ]
  },
  {
   "cell_type": "code",
   "execution_count": 9,
   "metadata": {},
   "outputs": [],
   "source": [
    "# Saving the clean data in csv files\n",
    "\n",
    "Mortgage_1.to_csv('Clean_Data/mortgage_1.csv')\n",
    "Mortgage_2.to_csv('Clean_Data/mortgage_2.csv')"
   ]
  },
  {
   "cell_type": "code",
   "execution_count": 10,
   "metadata": {},
   "outputs": [],
   "source": [
    "# Data from Google Cloud\n",
    "D1 = pd.read_csv('Data/sf_const_2006_2009.csv')\n",
    "D2 = pd.read_csv('Data/sf_const_2016_2019.csv')\n"
   ]
  },
  {
   "cell_type": "code",
   "execution_count": 11,
   "metadata": {},
   "outputs": [
    {
     "data": {
      "text/html": [
       "<div>\n",
       "<style scoped>\n",
       "    .dataframe tbody tr th:only-of-type {\n",
       "        vertical-align: middle;\n",
       "    }\n",
       "\n",
       "    .dataframe tbody tr th {\n",
       "        vertical-align: top;\n",
       "    }\n",
       "\n",
       "    .dataframe thead th {\n",
       "        text-align: right;\n",
       "    }\n",
       "</style>\n",
       "<table border=\"1\" class=\"dataframe\">\n",
       "  <thead>\n",
       "    <tr style=\"text-align: right;\">\n",
       "      <th></th>\n",
       "      <th>Single family units in 1000's</th>\n",
       "    </tr>\n",
       "    <tr>\n",
       "      <th>DATE</th>\n",
       "      <th></th>\n",
       "    </tr>\n",
       "  </thead>\n",
       "  <tbody>\n",
       "    <tr>\n",
       "      <th>2006-01-15</th>\n",
       "      <td>121.0</td>\n",
       "    </tr>\n",
       "    <tr>\n",
       "      <th>2006-02-15</th>\n",
       "      <td>123.6</td>\n",
       "    </tr>\n",
       "    <tr>\n",
       "      <th>2006-03-15</th>\n",
       "      <td>137.7</td>\n",
       "    </tr>\n",
       "    <tr>\n",
       "      <th>2006-04-15</th>\n",
       "      <td>134.8</td>\n",
       "    </tr>\n",
       "    <tr>\n",
       "      <th>2006-05-15</th>\n",
       "      <td>158.0</td>\n",
       "    </tr>\n",
       "  </tbody>\n",
       "</table>\n",
       "</div>"
      ],
      "text/plain": [
       "            Single family units in 1000's\n",
       "DATE                                     \n",
       "2006-01-15                          121.0\n",
       "2006-02-15                          123.6\n",
       "2006-03-15                          137.7\n",
       "2006-04-15                          134.8\n",
       "2006-05-15                          158.0"
      ]
     },
     "execution_count": 11,
     "metadata": {},
     "output_type": "execute_result"
    }
   ],
   "source": [
    "D1_f = D1[(D1.geo_desc == 'United States')]\n",
    "D1_f = D1_f[(D1_f.datatype_desc == 'Single-family Units')]\n",
    "D1_f = D1_f[(D1_f.category_desc == 'Housing Units Started')]\n",
    "D1_f = D1_f[['period_date', 'value']]\n",
    "D1_f = D1_f.rename(columns={'period_date': 'DATE', 'value': 'Single family units in 1000\\'s'})\n",
    "# Value = thousands of single family housing units started\n",
    "D1_f.set_index(\"DATE\", inplace=True)\n",
    "D1_f = D1_f.drop(['2005-12-15'])\n",
    "D1_f.head()"
   ]
  },
  {
   "cell_type": "code",
   "execution_count": 12,
   "metadata": {},
   "outputs": [
    {
     "data": {
      "text/html": [
       "<div>\n",
       "<style scoped>\n",
       "    .dataframe tbody tr th:only-of-type {\n",
       "        vertical-align: middle;\n",
       "    }\n",
       "\n",
       "    .dataframe tbody tr th {\n",
       "        vertical-align: top;\n",
       "    }\n",
       "\n",
       "    .dataframe thead th {\n",
       "        text-align: right;\n",
       "    }\n",
       "</style>\n",
       "<table border=\"1\" class=\"dataframe\">\n",
       "  <thead>\n",
       "    <tr style=\"text-align: right;\">\n",
       "      <th></th>\n",
       "      <th>Single family units in 1000's</th>\n",
       "    </tr>\n",
       "    <tr>\n",
       "      <th>DATE</th>\n",
       "      <th></th>\n",
       "    </tr>\n",
       "  </thead>\n",
       "  <tbody>\n",
       "    <tr>\n",
       "      <th>2016-01-15</th>\n",
       "      <td>50.2</td>\n",
       "    </tr>\n",
       "    <tr>\n",
       "      <th>2016-02-15</th>\n",
       "      <td>58.0</td>\n",
       "    </tr>\n",
       "    <tr>\n",
       "      <th>2016-03-15</th>\n",
       "      <td>62.2</td>\n",
       "    </tr>\n",
       "    <tr>\n",
       "      <th>2016-04-15</th>\n",
       "      <td>72.5</td>\n",
       "    </tr>\n",
       "    <tr>\n",
       "      <th>2016-05-15</th>\n",
       "      <td>70.2</td>\n",
       "    </tr>\n",
       "  </tbody>\n",
       "</table>\n",
       "</div>"
      ],
      "text/plain": [
       "            Single family units in 1000's\n",
       "DATE                                     \n",
       "2016-01-15                           50.2\n",
       "2016-02-15                           58.0\n",
       "2016-03-15                           62.2\n",
       "2016-04-15                           72.5\n",
       "2016-05-15                           70.2"
      ]
     },
     "execution_count": 12,
     "metadata": {},
     "output_type": "execute_result"
    }
   ],
   "source": [
    "D2_f = D2[(D2.geo_desc == 'United States')]\n",
    "D2_f = D2_f[(D2_f.datatype_desc == 'Single-family Units')]\n",
    "D2_f = D2_f[(D2_f.category_desc == 'Housing Units Started')]\n",
    "D2_f = D2_f[['period_date', 'value']]\n",
    "D2_f = D2_f.rename(columns={'period_date': 'DATE', 'value': 'Single family units in 1000\\'s'})\n",
    "# Value = thousands of single family housing units started\n",
    "D2_f.set_index(\"DATE\", inplace=True)\n",
    "D2_f.head()"
   ]
  },
  {
   "cell_type": "code",
   "execution_count": 13,
   "metadata": {},
   "outputs": [],
   "source": [
    "D1_f.to_csv('Clean_Data/SFU_06.csv')\n",
    "D2_f.to_csv('Clean_Data/SFU_16.csv')"
   ]
  },
  {
   "cell_type": "code",
   "execution_count": null,
   "metadata": {},
   "outputs": [],
   "source": []
  }
 ],
 "metadata": {
  "kernelspec": {
   "display_name": "Python 3",
   "language": "python",
   "name": "python3"
  },
  "language_info": {
   "codemirror_mode": {
    "name": "ipython",
    "version": 3
   },
   "file_extension": ".py",
   "mimetype": "text/x-python",
   "name": "python",
   "nbconvert_exporter": "python",
   "pygments_lexer": "ipython3",
   "version": "3.7.3"
  }
 },
 "nbformat": 4,
 "nbformat_minor": 2
}
