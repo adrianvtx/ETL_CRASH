{
 "cells": [
  {
   "cell_type": "code",
   "execution_count": 2,
   "metadata": {},
   "outputs": [],
   "source": [
    "import pandas as pd\n",
    "import numpy as np"
   ]
  },
  {
   "cell_type": "code",
   "execution_count": 6,
   "metadata": {},
   "outputs": [],
   "source": [
    "# Read csv files to pandas dataframe\n",
    "# MDO stands for mortgage debt out standing, S is for 1-4 unit and M is for multifamily\n",
    "MDO_S_06 = pd.read_csv('Data/1_4_family_2006_2009.csv')\n",
    "MDO_S_16 = pd.read_csv('Data/1_4_family_2016_2019.csv')\n",
    "MDO_M_06 = pd.read_csv('Data/multi_family_2006_2009.csv')\n",
    "MDO_M_16 = pd.read_csv('Data/multi_family_2016_2019.csv')\n",
    "\n",
    "# Mortgage rates quarterly\n",
    "ratesQ_06 = pd.read_csv('Data/MORTGAGE30USQ_06_09.csv')\n",
    "ratesQ_16 = pd.read_csv('Data/MORTGAGE30USQ_16_19.csv')"
   ]
  },
  {
   "cell_type": "code",
   "execution_count": 17,
   "metadata": {},
   "outputs": [
    {
     "data": {
      "text/html": [
       "<div>\n",
       "<style scoped>\n",
       "    .dataframe tbody tr th:only-of-type {\n",
       "        vertical-align: middle;\n",
       "    }\n",
       "\n",
       "    .dataframe tbody tr th {\n",
       "        vertical-align: top;\n",
       "    }\n",
       "\n",
       "    .dataframe thead th {\n",
       "        text-align: right;\n",
       "    }\n",
       "</style>\n",
       "<table border=\"1\" class=\"dataframe\">\n",
       "  <thead>\n",
       "    <tr style=\"text-align: right;\">\n",
       "      <th></th>\n",
       "      <th>DATE</th>\n",
       "      <th>MORTGAGE30US</th>\n",
       "    </tr>\n",
       "  </thead>\n",
       "  <tbody>\n",
       "    <tr>\n",
       "      <th>0</th>\n",
       "      <td>2016-01-01</td>\n",
       "      <td>3.738462</td>\n",
       "    </tr>\n",
       "    <tr>\n",
       "      <th>1</th>\n",
       "      <td>2016-04-01</td>\n",
       "      <td>3.589231</td>\n",
       "    </tr>\n",
       "    <tr>\n",
       "      <th>2</th>\n",
       "      <td>2016-07-01</td>\n",
       "      <td>3.446154</td>\n",
       "    </tr>\n",
       "    <tr>\n",
       "      <th>3</th>\n",
       "      <td>2016-10-01</td>\n",
       "      <td>3.842308</td>\n",
       "    </tr>\n",
       "    <tr>\n",
       "      <th>4</th>\n",
       "      <td>2017-01-01</td>\n",
       "      <td>4.173077</td>\n",
       "    </tr>\n",
       "  </tbody>\n",
       "</table>\n",
       "</div>"
      ],
      "text/plain": [
       "         DATE  MORTGAGE30US\n",
       "0  2016-01-01      3.738462\n",
       "1  2016-04-01      3.589231\n",
       "2  2016-07-01      3.446154\n",
       "3  2016-10-01      3.842308\n",
       "4  2017-01-01      4.173077"
      ]
     },
     "execution_count": 17,
     "metadata": {},
     "output_type": "execute_result"
    }
   ],
   "source": [
    "ratesQ_16.head()"
   ]
  },
  {
   "cell_type": "code",
   "execution_count": 8,
   "metadata": {},
   "outputs": [],
   "source": [
    "# Data from second source\n",
    "D1 = pd.read_csv('Data/sf_const_2006_2009.csv')\n",
    "D2 = pd.read_csv('Data/sf_const_2016_2019.csv')\n"
   ]
  },
  {
   "cell_type": "code",
   "execution_count": 76,
   "metadata": {},
   "outputs": [
    {
     "data": {
      "text/plain": [
       "Index(['period_id', 'period_name', 'period_date', 'category_id',\n",
       "       'category_code', 'category_desc', 'category_indent', 'datatype_id',\n",
       "       'datatype_code', 'datatype_desc', 'datatype_unit', 'error_type_id',\n",
       "       'error_type_code', 'error_type_desc', 'error_type_unit', 'geo_id',\n",
       "       'geo_code', 'geo_desc', 'is_adjusted', 'value'],\n",
       "      dtype='object')"
      ]
     },
     "execution_count": 76,
     "metadata": {},
     "output_type": "execute_result"
    }
   ],
   "source": [
    "D2.columns"
   ]
  },
  {
   "cell_type": "code",
   "execution_count": 83,
   "metadata": {},
   "outputs": [
    {
     "data": {
      "text/plain": [
       "61"
      ]
     },
     "execution_count": 83,
     "metadata": {},
     "output_type": "execute_result"
    }
   ],
   "source": [
    "D1_f['period_date'].nunique()"
   ]
  },
  {
   "cell_type": "code",
   "execution_count": 95,
   "metadata": {},
   "outputs": [
    {
     "data": {
      "text/html": [
       "<div>\n",
       "<style scoped>\n",
       "    .dataframe tbody tr th:only-of-type {\n",
       "        vertical-align: middle;\n",
       "    }\n",
       "\n",
       "    .dataframe tbody tr th {\n",
       "        vertical-align: top;\n",
       "    }\n",
       "\n",
       "    .dataframe thead th {\n",
       "        text-align: right;\n",
       "    }\n",
       "</style>\n",
       "<table border=\"1\" class=\"dataframe\">\n",
       "  <thead>\n",
       "    <tr style=\"text-align: right;\">\n",
       "      <th></th>\n",
       "      <th>Single family units in 1000's</th>\n",
       "    </tr>\n",
       "    <tr>\n",
       "      <th>DATE</th>\n",
       "      <th></th>\n",
       "    </tr>\n",
       "  </thead>\n",
       "  <tbody>\n",
       "    <tr>\n",
       "      <th>2005-12-15</th>\n",
       "      <td>107.9</td>\n",
       "    </tr>\n",
       "    <tr>\n",
       "      <th>2006-01-15</th>\n",
       "      <td>121.0</td>\n",
       "    </tr>\n",
       "    <tr>\n",
       "      <th>2006-02-15</th>\n",
       "      <td>123.6</td>\n",
       "    </tr>\n",
       "    <tr>\n",
       "      <th>2006-03-15</th>\n",
       "      <td>137.7</td>\n",
       "    </tr>\n",
       "    <tr>\n",
       "      <th>2006-04-15</th>\n",
       "      <td>134.8</td>\n",
       "    </tr>\n",
       "  </tbody>\n",
       "</table>\n",
       "</div>"
      ],
      "text/plain": [
       "            Single family units in 1000's\n",
       "DATE                                     \n",
       "2005-12-15                          107.9\n",
       "2006-01-15                          121.0\n",
       "2006-02-15                          123.6\n",
       "2006-03-15                          137.7\n",
       "2006-04-15                          134.8"
      ]
     },
     "execution_count": 95,
     "metadata": {},
     "output_type": "execute_result"
    }
   ],
   "source": [
    "D1_f = D1[(D1.geo_desc == 'United States')]\n",
    "D1_f = D1_f[(D1_f.datatype_desc == 'Single-family Units')]\n",
    "D1_f = D1_f[(D1_f.category_desc == 'Housing Units Started')]\n",
    "D1_f = D1_f[['period_date', 'value']]\n",
    "D1_f = D1_f.rename(columns={'period_date': 'DATE', 'value': 'Single family units in 1000\\'s'})\n",
    "# Value = thousands of single family housing units started\n",
    "D1_f.set_index(\"DATE\", inplace=True)\n",
    "D1_f.head()"
   ]
  },
  {
   "cell_type": "code",
   "execution_count": 96,
   "metadata": {},
   "outputs": [
    {
     "data": {
      "text/html": [
       "<div>\n",
       "<style scoped>\n",
       "    .dataframe tbody tr th:only-of-type {\n",
       "        vertical-align: middle;\n",
       "    }\n",
       "\n",
       "    .dataframe tbody tr th {\n",
       "        vertical-align: top;\n",
       "    }\n",
       "\n",
       "    .dataframe thead th {\n",
       "        text-align: right;\n",
       "    }\n",
       "</style>\n",
       "<table border=\"1\" class=\"dataframe\">\n",
       "  <thead>\n",
       "    <tr style=\"text-align: right;\">\n",
       "      <th></th>\n",
       "      <th>Single family units in 1000's</th>\n",
       "    </tr>\n",
       "    <tr>\n",
       "      <th>DATE</th>\n",
       "      <th></th>\n",
       "    </tr>\n",
       "  </thead>\n",
       "  <tbody>\n",
       "    <tr>\n",
       "      <th>2016-01-15</th>\n",
       "      <td>50.2</td>\n",
       "    </tr>\n",
       "    <tr>\n",
       "      <th>2016-02-15</th>\n",
       "      <td>58.0</td>\n",
       "    </tr>\n",
       "    <tr>\n",
       "      <th>2016-03-15</th>\n",
       "      <td>62.2</td>\n",
       "    </tr>\n",
       "    <tr>\n",
       "      <th>2016-04-15</th>\n",
       "      <td>72.5</td>\n",
       "    </tr>\n",
       "    <tr>\n",
       "      <th>2016-05-15</th>\n",
       "      <td>70.2</td>\n",
       "    </tr>\n",
       "  </tbody>\n",
       "</table>\n",
       "</div>"
      ],
      "text/plain": [
       "            Single family units in 1000's\n",
       "DATE                                     \n",
       "2016-01-15                           50.2\n",
       "2016-02-15                           58.0\n",
       "2016-03-15                           62.2\n",
       "2016-04-15                           72.5\n",
       "2016-05-15                           70.2"
      ]
     },
     "execution_count": 96,
     "metadata": {},
     "output_type": "execute_result"
    }
   ],
   "source": [
    "D2_f = D2[(D2.geo_desc == 'United States')]\n",
    "D2_f = D2_f[(D2_f.datatype_desc == 'Single-family Units')]\n",
    "D2_f = D2_f[(D2_f.category_desc == 'Housing Units Started')]\n",
    "D2_f = D2_f[['period_date', 'value']]\n",
    "D2_f = D2_f.rename(columns={'period_date': 'DATE', 'value': 'Single family units in 1000\\'s'})\n",
    "# Value = thousands of single family housing units started\n",
    "D2_f.set_index(\"DATE\", inplace=True)\n",
    "D2_f.head()"
   ]
  },
  {
   "cell_type": "code",
   "execution_count": null,
   "metadata": {},
   "outputs": [],
   "source": []
  }
 ],
 "metadata": {
  "kernelspec": {
   "display_name": "Python 3",
   "language": "python",
   "name": "python3"
  },
  "language_info": {
   "codemirror_mode": {
    "name": "ipython",
    "version": 3
   },
   "file_extension": ".py",
   "mimetype": "text/x-python",
   "name": "python",
   "nbconvert_exporter": "python",
   "pygments_lexer": "ipython3",
   "version": "3.7.3"
  }
 },
 "nbformat": 4,
 "nbformat_minor": 2
}
